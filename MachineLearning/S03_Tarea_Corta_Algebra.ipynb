{
  "nbformat": 4,
  "nbformat_minor": 0,
  "metadata": {
    "colab": {
      "name": "S03 Tarea Corta: Algebra",
      "provenance": [],
      "collapsed_sections": [],
      "authorship_tag": "ABX9TyOqBUbwlgcHG1IDMGoUniAG",
      "include_colab_link": true
    },
    "kernelspec": {
      "name": "python3",
      "display_name": "Python 3"
    },
    "language_info": {
      "name": "python"
    }
  },
  "cells": [
    {
      "cell_type": "markdown",
      "metadata": {
        "id": "view-in-github",
        "colab_type": "text"
      },
      "source": [
        "<a href=\"https://colab.research.google.com/github/AndresWV/AndresWV.github.io/blob/main/MachineLearning/S03_Tarea_Corta_Algebra.ipynb\" target=\"_parent\"><img src=\"https://colab.research.google.com/assets/colab-badge.svg\" alt=\"Open In Colab\"/></a>"
      ]
    },
    {
      "cell_type": "code",
      "execution_count": null,
      "metadata": {
        "id": "ej1nFs5VLjE0"
      },
      "outputs": [],
      "source": [
        "import numpy as np\n",
        "import matplotlib.pyplot as plt\n",
        "\n"
      ]
    },
    {
      "cell_type": "markdown",
      "source": [
        "Considerando x = adultos e y = niños, el sistema de ecuaciones queda de la siguiente manera:\n",
        "\n",
        "2x+y=32\n",
        "\n",
        "x+3y=36"
      ],
      "metadata": {
        "id": "ldTWjbv-cdBK"
      }
    },
    {
      "cell_type": "markdown",
      "source": [
        "**1.- Almacenar todos los coeficientes que acompañan a las incognitas(x e y) en un array**"
      ],
      "metadata": {
        "id": "06qtP-w0c1yE"
      }
    },
    {
      "cell_type": "code",
      "source": [
        "coeficientes = np.array([[2,1],[1,3]])"
      ],
      "metadata": {
        "id": "oVymnZG4c_KN"
      },
      "execution_count": 16,
      "outputs": []
    },
    {
      "cell_type": "markdown",
      "source": [
        "**2.- Almacenar valores del vector solución**"
      ],
      "metadata": {
        "id": "DSGiRjVldCsv"
      }
    },
    {
      "cell_type": "code",
      "source": [
        "vectorSolucion = np.array([32,36])"
      ],
      "metadata": {
        "id": "3U5LiSnCdWIh"
      },
      "execution_count": 17,
      "outputs": []
    },
    {
      "cell_type": "markdown",
      "source": [
        "**3.- Crear vector para almacenar la solución**"
      ],
      "metadata": {
        "id": "-Yr_SvArdoHJ"
      }
    },
    {
      "cell_type": "code",
      "source": [
        "solucion = np.linalg.solve(coeficientes,vectorSolucion)"
      ],
      "metadata": {
        "id": "PHkHG04odri9"
      },
      "execution_count": 18,
      "outputs": []
    },
    {
      "cell_type": "markdown",
      "source": [
        "**4.- Mostrar el vector con las soluciones de las ecuaciones(valor que toma x e y)**"
      ],
      "metadata": {
        "id": "OJ2_M5nNd158"
      }
    },
    {
      "cell_type": "code",
      "source": [
        "print(\"X(Adultos):\",solucion[0])\n",
        "print(\"Y(Niños):\",solucion[1])"
      ],
      "metadata": {
        "id": "KEiee9i0d_Fi",
        "outputId": "877c0388-c3a5-4109-d636-e86b1f0e36b4",
        "colab": {
          "base_uri": "https://localhost:8080/"
        }
      },
      "execution_count": 33,
      "outputs": [
        {
          "output_type": "stream",
          "name": "stdout",
          "text": [
            "X(Adultos): 12.0\n",
            "Y(Niños): 8.0\n"
          ]
        }
      ]
    },
    {
      "cell_type": "markdown",
      "source": [
        "**5.- Generar grafico**"
      ],
      "metadata": {
        "id": "oappVrYjfwg2"
      }
    },
    {
      "cell_type": "code",
      "source": [
        "fig, ax = plt.subplots()\n",
        "plt.xlabel('x')\n",
        "plt.ylabel('y')\n",
        "ax.set_xlim([0, 13])\n",
        "ax.set_ylim([0, 40])\n",
        "ax.plot(x, y1, c='green')\n",
        "ax.plot(x, y2, c='brown')\n",
        "plt.axvline(x=solucion[0], color='purple', linestyle='--')\n",
        "_ = plt.axhline(y=solucion[1], color='purple', linestyle='--')"
      ],
      "metadata": {
        "id": "awwC6KCyf0Fb",
        "outputId": "cd87af68-f858-4111-e45e-a4783d37d652",
        "colab": {
          "base_uri": "https://localhost:8080/",
          "height": 283
        }
      },
      "execution_count": 35,
      "outputs": [
        {
          "output_type": "display_data",
          "data": {
            "text/plain": [
              "<Figure size 432x288 with 1 Axes>"
            ],
            "image/png": "[encoded data removed]"
          },
          "metadata": {
            "needs_background": "light"
          }
        }
      ]
    }
  ]
}